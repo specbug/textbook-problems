{
 "cells": [
  {
   "cell_type": "markdown",
   "id": "c97cc761",
   "metadata": {},
   "source": [
    "**8.1.**\n",
    "\n",
    "**(a)**\n",
    "\\begin{align*}\n",
    "P(\\text{odd digit on the first draw}) &= \\frac{\\text{Number of odd digits}}{\\text{Total number of digits}} \\\\\n",
    "&= \\frac{3}{5}\n",
    "\\end{align*}\n",
    "\n",
    "**(b)**\n",
    "\\begin{align*}\n",
    "P(\\text{odd digit on the second draw}) &= P(\\text{odd digit on the first draw}) \\cdot P(\\text{odd digit on the second draw}|\\text{odd on the first draw}) \\\\\n",
    "&\\quad+ P(\\text{even digit on the first draw}) \\cdot P(\\text{odd digit on the second draw}|\\text{even on the first draw}) \\\\\n",
    "&= \\frac{3}{5} \\cdot \\frac{2}{4} + \\frac{2}{5} \\cdot \\frac{3}{4} \\\\\n",
    "&= \\frac{3}{5}\n",
    "\\end{align*}\n",
    "\n",
    "**(c)**\n",
    "\\begin{align*}\n",
    "P(\\text{odd digit on both draws}) &= P(\\text{odd digit on the first draw}) \\cdot P(\\text{odd digit on the second draw}|\\text{odd on the first draw}) \\\\\n",
    "&= \\frac{3}{5} \\cdot \\frac{2}{4} \\\\\n",
    "&= \\frac{3}{10}\n",
    "\\end{align*}\n"
   ]
  },
  {
   "cell_type": "markdown",
   "id": "d758515a",
   "metadata": {},
   "source": [
    "<hr>"
   ]
  },
  {
   "cell_type": "markdown",
   "id": "aa108713",
   "metadata": {},
   "source": [
    "**8.3.**\n",
    "\n",
    "\\begin{align*}\n",
    "P(A_1) &= P(A_2) = P(A_3) = P(A_4) \\\\\n",
    "&= \\frac{3!}{4!} = \\frac{1}{4} \\\\ \\\\\n",
    "\\therefore P(A_1 \\cup A_2 \\cup A_3 \\cup A_4) &= P(A_1) + P(A_2) + P(A_3) + P(A_4) = 1\n",
    "\\end{align*}"
   ]
  },
  {
   "cell_type": "markdown",
   "id": "cb89ab84",
   "metadata": {},
   "source": [
    "<hr>"
   ]
  },
  {
   "cell_type": "markdown",
   "id": "2a9be865",
   "metadata": {},
   "source": [
    "**8.4**\n",
    "\n",
    "**(a)**\n",
    "\\begin{align*}\n",
    "S(\\text{experiment doesn't end till } k=6) &= \\{\\{H,T,H,T,H,T\\}, \\{T,H,T,H,T,H\\}\\} \\\\\n",
    "P(S') &= 1 - 2 \\cdot \\frac{1}{2^5} = \\frac{15}{16}\n",
    "\\end{align*}\n",
    "\n",
    "**(b)**\n",
    "\\begin{align*}\n",
    "n &= 2, 4, 6, \\ldots \\\\\n",
    "p &= \\frac{1}{2}, \\frac{1}{2^3}, \\frac{1}{2^5}, \\ldots \\\\\n",
    "s &= \\frac{a}{1-r} \\\\\n",
    "&= \\frac{\\frac{1}{2}}{1-\\frac{1}{4}} \\\\\n",
    "&= \\frac{2}{3}\n",
    "\\end{align*}"
   ]
  },
  {
   "cell_type": "markdown",
   "id": "a74836eb",
   "metadata": {},
   "source": [
    "<hr>"
   ]
  },
  {
   "cell_type": "markdown",
   "id": "937eb06d",
   "metadata": {},
   "source": [
    "**8.5**\n",
    "\n",
    "[Solution](https://web.archive.org/web/20230923113342/https://math.stackexchange.com/questions/392457/counting-exercise)"
   ]
  },
  {
   "cell_type": "markdown",
   "id": "42aed433",
   "metadata": {},
   "source": [
    "<hr>"
   ]
  },
  {
   "cell_type": "markdown",
   "id": "f3b03548",
   "metadata": {},
   "source": [
    "**8.9**\n",
    "\\begin{align*}\n",
    "E(A) & : (\\text{odd, even}) + (\\text{even, odd}) \\\\\n",
    "E(B) & : (1, *) + (*, 1) - (1, 1) \\\\\n",
    "E(AB) & : (1, \\text{even}) + (\\text{even, 1}) \\\\\n",
    "E(A \\cup B) & : A + B - AB \\\\\n",
    "\\\\\n",
    "P(A) & = \\frac{2 \\cdot 9}{36} = \\frac{1}{2} \\\\ \\\\\n",
    "P(B) & = \\frac{6 + 6 - 1}{36} = \\frac{11}{36} \\\\ \\\\\n",
    "P(AB) & = \\frac{3 + 3}{36} = \\frac{1}{6} \\\\ \\\\\n",
    "P(A \\cup B) & = \\frac{1}{2} + \\frac{11}{36} - \\frac{1}{6} = \\frac{23}{36}\n",
    "\\end{align*}\n"
   ]
  }
 ],
 "metadata": {
  "kernelspec": {
   "display_name": "Python 3 (ipykernel)",
   "language": "python",
   "name": "python3"
  },
  "language_info": {
   "codemirror_mode": {
    "name": "ipython",
    "version": 3
   },
   "file_extension": ".py",
   "mimetype": "text/x-python",
   "name": "python",
   "nbconvert_exporter": "python",
   "pygments_lexer": "ipython3",
   "version": "3.10.9"
  }
 },
 "nbformat": 4,
 "nbformat_minor": 5
}
